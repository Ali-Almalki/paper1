{
  "nbformat": 4,
  "nbformat_minor": 0,
  "metadata": {
    "colab": {
      "provenance": []
    },
    "kernelspec": {
      "name": "python3",
      "display_name": "Python 3"
    },
    "language_info": {
      "name": "python"
    }
  },
  "cells": [
    {
      "cell_type": "code",
      "source": [
        "from google.colab import drive\n",
        "drive.mount('/content/drive')"
      ],
      "metadata": {
        "colab": {
          "base_uri": "https://localhost:8080/"
        },
        "id": "UFT2I9N-6v-P",
        "outputId": "3f882c1a-a12a-4cbc-dfcd-7477386585e7"
      },
      "execution_count": null,
      "outputs": [
        {
          "output_type": "stream",
          "name": "stdout",
          "text": [
            "Drive already mounted at /content/drive; to attempt to forcibly remount, call drive.mount(\"/content/drive\", force_remount=True).\n"
          ]
        }
      ]
    },
    {
      "cell_type": "code",
      "execution_count": null,
      "metadata": {
        "id": "03r9nKtX6d0C"
      },
      "outputs": [],
      "source": [
        "!unzip \"/content/drive/MyDrive/vid_aug.zip\" -d \"/content/sample_data/dataset\""
      ]
    },
    {
      "cell_type": "code",
      "source": [
        "import os\n",
        "\n",
        "main_folder =  r'/content/sample_data/dataset/vid_aug'\n",
        "# Iterate through each subfolder within the main folder\n",
        "for folder in os.listdir(main_folder):\n",
        "    subfolder = os.path.join(main_folder, folder)\n",
        "\n",
        "    if not os.path.isdir(subfolder):\n",
        "        continue\n",
        "\n",
        "    # Iterate through the videos in the subfolder\n",
        "    for video in os.listdir(subfolder):\n",
        "        video_path = os.path.join(subfolder, video)\n",
        "\n",
        "        # Check if the video name contains the word \"transformed\"\n",
        "        if 'transformed' in video:\n",
        "            # Delete the video\n",
        "            os.remove(video_path)\n"
      ],
      "metadata": {
        "id": "laLG9fSmBff5"
      },
      "execution_count": null,
      "outputs": []
    },
    {
      "cell_type": "code",
      "source": [
        "import os\n",
        "import numpy as np\n",
        "\n",
        "class Downsample(object):\n",
        "    \"\"\"\n",
        "    Temporally downsample a video by deleting some of its frames.\n",
        "\n",
        "    Args:\n",
        "        ratio (float): Downsampling ratio in [0.0 <= ratio <= 1.0].\n",
        "    \"\"\"\n",
        "    def __init__(self, ratio=1.0):\n",
        "        if ratio < 0.0 or ratio > 1.0:\n",
        "            raise TypeError('ratio should be in [0.0 <= ratio <= 1.0]. ' +\n",
        "                            'Please use upsampling for ratio > 1.0')\n",
        "        self.ratio = ratio\n",
        "\n",
        "    def __call__(self, clip):\n",
        "        nb_return_frame = np.floor(self.ratio * len(clip)).astype(int)\n",
        "        return_ind = [int(i) for i in np.linspace(1, len(clip), num=nb_return_frame)]\n",
        "\n",
        "        return [clip[i-1] for i in return_ind]\n",
        "\n",
        "# Apply Downsample transformation\n",
        "downsampler = Downsample(ratio=0.5)  # Example downsampling ratio of 0.5 (keep 50% of frames)\n",
        "\n"
      ],
      "metadata": {
        "id": "9n9m4rIYYB5I"
      },
      "execution_count": null,
      "outputs": []
    },
    {
      "cell_type": "code",
      "source": [
        "import cv2\n",
        "import os\n",
        "\n",
        "# Function to load video frames\n",
        "def video_loader(video_path):\n",
        "    frames = []\n",
        "    cap = cv2.VideoCapture(video_path)\n",
        "\n",
        "    while cap.isOpened():\n",
        "        ret, frame = cap.read()\n",
        "        if not ret:\n",
        "            break\n",
        "        frames.append(frame)\n",
        "\n",
        "    cap.release()\n",
        "    return frames\n",
        "\n",
        "# Function to apply transformations to a video file\n",
        "def apply_transformations_to_video(input_path, output_path):\n",
        "    # Load video frames\n",
        "    frames = video_loader(input_path)\n",
        "\n",
        "    # Check if the video frames exist\n",
        "    if len(frames) == 0:\n",
        "        print(f\"No frames found in {input_path}. Skipping video.\")\n",
        "        return\n",
        "\n",
        "    # Apply transformations\n",
        "\n",
        "    # Downsample\n",
        "    downsampler = Downsample(ratio=0.5)  # Example downsampling ratio of 0.5 (keep 50% of frames)\n",
        "    downsampled_frames = downsampler(frames)\n",
        "\n",
        "    # Save downsampled frames as a new video\n",
        "    downsampled_output_path = os.path.splitext(output_path)[0] + \"_downsampled.mp4\"\n",
        "    out = cv2.VideoWriter(downsampled_output_path, cv2.VideoWriter_fourcc(*'mp4v'), 30, (frames[0].shape[1], frames[0].shape[0]))\n",
        "    for frame in downsampled_frames:\n",
        "        out.write(frame)\n",
        "    out.release()\n",
        "\n",
        "\n",
        "# Folder path containing the videos\n",
        "parent_folder_path = \"/content/sample_data/dataset/vid_aug\"\n",
        "\n",
        "# Iterate over the subfolders in the parent folder\n",
        "for folder_name in os.listdir(parent_folder_path):\n",
        "    folder_path = os.path.join(parent_folder_path, folder_name)\n",
        "\n",
        "    # Check if the item in the parent folder is a subfolder\n",
        "    if os.path.isdir(folder_path):\n",
        "        # Iterate over the video files in the subfolder\n",
        "        for filename in os.listdir(folder_path):\n",
        "            if filename.endswith(\".mp4\"):\n",
        "                # Construct the input and output paths\n",
        "                input_path = os.path.join(folder_path, filename)\n",
        "                output_path = os.path.join(folder_path, os.path.splitext(filename)[0] + \"_transformed.mp4\")\n",
        "\n",
        "                # Apply transformations to the video\n",
        "                apply_transformations_to_video(input_path, output_path)\n",
        "\n",
        "\n",
        "\n",
        "\n"
      ],
      "metadata": {
        "colab": {
          "base_uri": "https://localhost:8080/"
        },
        "id": "7pHWMk2zZOsh",
        "outputId": "d0f30c94-a6ba-41bd-be38-ef58ce2d8e88"
      },
      "execution_count": null,
      "outputs": [
        {
          "output_type": "stream",
          "name": "stdout",
          "text": [
            "No frames found in /content/sample_data/dataset/vid_aug/ارض/augmented_ارض_0.mp4. Skipping video.\n"
          ]
        }
      ]
    },
    {
      "cell_type": "code",
      "source": [
        "main_folder = '/content/sample_data/dataset/vid_aug'\n",
        "\n",
        "# Iterate through each subfolder within the main folder\n",
        "for folder in os.listdir(main_folder):\n",
        "    subfolder = os.path.join(main_folder, folder)\n",
        "\n",
        "    if not os.path.isdir(subfolder):\n",
        "        continue\n",
        "\n",
        "    # Iterate through the videos in the subfolder\n",
        "    for video in os.listdir(subfolder):\n",
        "        video_path = os.path.join(subfolder, video)\n",
        "\n",
        "        # Check if the video name does not contain the word \"transformed\"\n",
        "        if 'transformed' not in video:\n",
        "            # Delete the video\n",
        "            os.remove(video_path)"
      ],
      "metadata": {
        "id": "h46bU8hNaeUb"
      },
      "execution_count": null,
      "outputs": []
    },
    {
      "cell_type": "code",
      "source": [
        "import os\n",
        "import shutil\n",
        "\n",
        "# Specify the path to the main folder containing multiple sub-folders with videos\n",
        "main_folder = r'/content/sample_data/dataset/vid_aug'\n",
        "\n",
        "# Iterate over the sub-folders\n",
        "for folder_name in os.listdir(main_folder):\n",
        "    folder_path = os.path.join(main_folder, folder_name)\n",
        "\n",
        "    # Check if the item in the main folder is a sub-folder\n",
        "    if os.path.isdir(folder_path):\n",
        "        val_folder_path = os.path.join(folder_path, 'val')\n",
        "\n",
        "        # Create the 'val' folder if it doesn't exist\n",
        "        if not os.path.exists(val_folder_path):\n",
        "            os.makedirs(val_folder_path)\n",
        "\n",
        "        # Move videos from the sub-folder to the 'val' folder\n",
        "        for video_name in os.listdir(folder_path):\n",
        "            video_path = os.path.join(folder_path, video_name)\n",
        "\n",
        "            # Check if the item in the sub-folder is a video file\n",
        "            if os.path.isfile(video_path):\n",
        "                shutil.move(video_path, val_folder_path)"
      ],
      "metadata": {
        "id": "ArOt_wmZmnWv"
      },
      "execution_count": null,
      "outputs": []
    },
    {
      "cell_type": "code",
      "source": [
        "!zip -r /content/sample_data/val.zip /content/sample_data/dataset/vid_aug"
      ],
      "metadata": {
        "id": "YDDlH_rPiq29"
      },
      "execution_count": null,
      "outputs": []
    },
    {
      "cell_type": "code",
      "source": [
        "import shutil\n",
        "\n",
        "original = r'/content/sample_data/val.zip'\n",
        "target = r'/content/drive/MyDrive/'\n",
        "\n",
        "shutil.move(original, target)"
      ],
      "metadata": {
        "colab": {
          "base_uri": "https://localhost:8080/",
          "height": 35
        },
        "id": "yx2KV7iG8Pxe",
        "outputId": "971cb9fa-a7f3-4476-a21f-c49006d6d683"
      },
      "execution_count": null,
      "outputs": [
        {
          "output_type": "execute_result",
          "data": {
            "text/plain": [
              "'/content/drive/MyDrive/val.zip'"
            ],
            "application/vnd.google.colaboratory.intrinsic+json": {
              "type": "string"
            }
          },
          "metadata": {},
          "execution_count": 16
        }
      ]
    }
  ]
}